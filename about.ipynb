{
  "cells": [
    {
      "cell_type": "raw",
      "metadata": {},
      "source": [
        "---\n",
        "title: \"About Me\"\n",
        "title-block-banner: \"#99CCFF\"\n",
        "---"
      ],
      "id": "bde5c224"
    },
    {
      "cell_type": "markdown",
      "metadata": {},
      "source": [
        "```{css}\n",
        "#| echo: false\n",
        "\n",
        ".title {\n",
        "  font-size: 100px;\n",
        "  font-style: italic;\n",
        "  color: blue;\n",
        "  font-family: Arial;\n",
        "}\n",
        "```\n",
        "\n",
        "\n",
        "\n",
        "::: grid\n",
        "::: g-col-8\n",
        "I graduated from Johns Hopkins University with a Bachelor of Science in Molecular & Cellular Biology and a minor in Applied Math and Statistics. My previous research has been on therapeutic compound discovery leveraging M13 phage display and next-generation sequencing. Broadly speaking, I am passionate about multi-omics and/or precision medicine approaches to tackle chronic and complex illnesses, such as identifying biomarkers or characterizing individual variability to better prevent, diagnose, and manage chronic diseases. At JHSPH, I hope to gain more experience in clinical trial.\n",
        ":::\n",
        "\n",
        "::: g-col-4\n",
        "![](images/p7.jpg)\n",
        ":::\n",
        ":::\n",
        "\n",
        "------------------------------------------------------------------------\n",
        "\n",
        "### [Education]{style=\"color: #4682b4;\"}\n",
        "\n",
        "**Johns Hopkins Bloomberg School of Public Health** \\| Sc.M. in [Biostatistics](https://publichealth.jhu.edu/academics/scm-dept-of-biostatistics) \\| Current\n",
        "\n",
        "**Johns Hopkins University** \\| B.S. in [Molecular & Cellular Biology](https://bio.jhu.edu/) \\| May 2023\n",
        "\n",
        "------------------------------------------------------------------------\n",
        "\n",
        "### [Experience]{style=\"color: #4682b4;\"}\n",
        "\n",
        "**Johns Hopkins University School of Medicine** \\| *Research Assistant* \\| [The Larman Lab](https://labs.pathology.jhu.edu/larman/) \\| Feb 2020 - Aug 2023\n",
        "\n",
        "------------------------------------------------------------------------\n",
        "\n",
        "### [Interests and Hobbies]{style=\"color: #4682b4;\"}\n",
        "\n",
        "Black & white photography, movies/documentaries, watercolor, badminton, traveling, running, chess\n",
        "\n",
        "::: {layout-ncol=\"2\"}\n",
        "![MD, USA. Oct 2021](images/p1.png)\n",
        "\n",
        "![MD, USA, April 2022](images/p2.png)\n",
        "\n",
        "![CA, USA. June 2020](images/p9.jpg) \n",
        "\n",
        "![MI, USA. Aug 2018](images/p4.jpg)\n",
        ":::"
      ],
      "id": "25822b42"
    }
  ],
  "metadata": {
    "kernelspec": {
      "display_name": "Python 3",
      "language": "python",
      "name": "python3"
    }
  },
  "nbformat": 4,
  "nbformat_minor": 5
}